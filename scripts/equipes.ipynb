{
 "cells": [
  {
   "cell_type": "markdown",
   "metadata": {},
   "source": [
    "## Mapa de Equipes"
   ]
  },
  {
   "cell_type": "markdown",
   "metadata": {},
   "source": [
    "\n",
    "Este script produz os mapas de equipes\n",
    "\n",
    "### Entrada (dados necessários):\n",
    "\n",
    "``` python\n",
    "estados = gpd.read_file('../shapes/estados.json')\n",
    "macro = gpd.read_file('../shapes/macro.gpkg')\n",
    "unidades = gpd.read_file('../shapes/unidades_cnes_realocadas.gpkg', driver='GPKG')\n",
    "```\n",
    "\n",
    "### Saída:\n",
    "\n",
    "Mapas de um estado ou de todos os estados do Brasil no caminho: `./output/mapas/cobertura/`"
   ]
  },
  {
   "cell_type": "markdown",
   "metadata": {},
   "source": [
    "### Importando funções e bibliotecas"
   ]
  },
  {
   "cell_type": "code",
   "execution_count": null,
   "metadata": {},
   "outputs": [],
   "source": [
    "import sys\n",
    "import os\n",
    "import geopandas as gpd\n",
    "import importlib\n",
    "sys.path.append(os.path.abspath(os.path.join(os.getcwd(), '..')))\n",
    "import utils\n",
    "importlib.reload(utils)\n",
    "from tqdm import tqdm\n",
    "from utils import get_macros, get_estados, gera_mapa_equipe"
   ]
  },
  {
   "cell_type": "markdown",
   "metadata": {},
   "source": [
    "### Bases de Dados"
   ]
  },
  {
   "cell_type": "code",
   "execution_count": null,
   "metadata": {},
   "outputs": [],
   "source": [
    "estados = get_estados()\n",
    "macros = get_macros()"
   ]
  },
  {
   "cell_type": "markdown",
   "metadata": {},
   "source": [
    "### Gerando Mapas"
   ]
  },
  {
   "cell_type": "code",
   "execution_count": null,
   "metadata": {},
   "outputs": [],
   "source": [
    "for UF in tqdm(estados):\n",
    "    gera_mapa_equipe(UF, export=True)\n",
    "    for MACRO in tqdm(macros.get(UF), leave=False):\n",
    "        gera_mapa_equipe(UF, MACRO, export=True)"
   ]
  }
 ],
 "metadata": {
  "kernelspec": {
   "display_name": "Python 3",
   "language": "python",
   "name": "python3"
  },
  "language_info": {
   "codemirror_mode": {
    "name": "ipython",
    "version": 3
   },
   "file_extension": ".py",
   "mimetype": "text/x-python",
   "name": "python",
   "nbconvert_exporter": "python",
   "pygments_lexer": "ipython3",
   "version": "3.9.6"
  }
 },
 "nbformat": 4,
 "nbformat_minor": 2
}
