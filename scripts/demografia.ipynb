{
 "cells": [
  {
   "cell_type": "markdown",
   "metadata": {},
   "source": [
    "## Mapa de Demografia"
   ]
  },
  {
   "cell_type": "markdown",
   "metadata": {},
   "source": [
    "\n",
    "Este script produz os mapas de equipes\n",
    "\n",
    "### Entrada (dados necessários):\n",
    "\n",
    "``` python\n",
    "estados = gpd.read_file('../shapes/estados.json')\n",
    "macro = gpd.read_file('../shapes/macro.gpkg')\n",
    "unidades = gpd.read_file('../shapes/unidades_cnes_realocadas.gpkg', driver='GPKG')\n",
    "```\n",
    "\n",
    "### Saída:\n",
    "\n",
    "Mapas de um estado ou de todos os estados do Brasil no caminho: `./output/mapas/cobertura/`"
   ]
  },
  {
   "cell_type": "markdown",
   "metadata": {},
   "source": [
    "### Importando funções e bibliotecas"
   ]
  },
  {
   "cell_type": "code",
   "execution_count": 36,
   "metadata": {},
   "outputs": [],
   "source": [
    "import sys\n",
    "import os\n",
    "import importlib\n",
    "import geopandas as gpd\n",
    "sys.path.append(os.path.abspath(os.path.join(os.getcwd(), '..')))\n",
    "import utils\n",
    "importlib.reload(utils)\n",
    "from tqdm import tqdm\n",
    "from utils import co_uf_ibge, get_unidades, gera_mapa_densidade"
   ]
  },
  {
   "cell_type": "markdown",
   "metadata": {},
   "source": [
    "### Bases de Dados"
   ]
  },
  {
   "cell_type": "code",
   "execution_count": 2,
   "metadata": {},
   "outputs": [],
   "source": [
    "#'../shapes/estados.json'\n",
    "#'./shapes/macro.gpkg'\n",
    "#'/shapes/unidades_cnes_realocadas.gpkg'\n",
    "macro = gpd.read_file('../shapes/macro.gpkg')\n",
    "macro = macro.astype({'CO_MACRORREGIONAL':'Int64'})\n",
    "\n",
    "lista_macro = macro[['CD_MUN', 'CD_UF', 'CO_MACRORREGIONAL', 'NO_MACRORREGIONAL']].rename(columns={'CD_UF':'SG_UF'})\n",
    "nome_macro = lista_macro[['CO_MACRORREGIONAL','NO_MACRORREGIONAL']].set_index('CO_MACRORREGIONAL').to_dict()\n",
    "nome_macro = nome_macro.get('NO_MACRORREGIONAL')"
   ]
  },
  {
   "cell_type": "markdown",
   "metadata": {},
   "source": [
    "### Processamento"
   ]
  },
  {
   "cell_type": "code",
   "execution_count": 3,
   "metadata": {},
   "outputs": [],
   "source": [
    "# gera_mapa_densidade from utils"
   ]
  },
  {
   "cell_type": "markdown",
   "metadata": {},
   "source": [
    "### Gerando Mapas"
   ]
  },
  {
   "cell_type": "code",
   "execution_count": null,
   "metadata": {},
   "outputs": [],
   "source": [
    "for UF in tqdm(co_uf_ibge.keys()):\n",
    "    gera_mapa_densidade(UF, None, export=True)\n",
    "    for MACRO in tqdm(lista_macro.loc[lista_macro.SG_UF==co_uf_ibge.get(UF),'CO_MACRORREGIONAL'].unique(), leave=False):\n",
    "        gera_mapa_densidade(UF, MACRO, export=True)"
   ]
  }
 ],
 "metadata": {
  "kernelspec": {
   "display_name": "Python 3",
   "language": "python",
   "name": "python3"
  },
  "language_info": {
   "codemirror_mode": {
    "name": "ipython",
    "version": 3
   },
   "file_extension": ".py",
   "mimetype": "text/x-python",
   "name": "python",
   "nbconvert_exporter": "python",
   "pygments_lexer": "ipython3",
   "version": "3.9.6"
  }
 },
 "nbformat": 4,
 "nbformat_minor": 2
}
